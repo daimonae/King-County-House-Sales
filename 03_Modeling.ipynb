{
 "cells": [
  {
   "cell_type": "markdown",
   "id": "73d10434",
   "metadata": {},
   "source": [
    "## Modeling"
   ]
  },
  {
   "cell_type": "code",
   "execution_count": 1,
   "id": "472770bd",
   "metadata": {},
   "outputs": [],
   "source": [
    "import numpy as np\n",
    "import pandas as pd\n",
    "import matplotlib.pyplot as plt\n",
    "import seaborn as sns\n",
    "plt.style.use('Solarize_Light2')\n",
    "\n",
    "# The other way\n",
    "from scipy import stats\n",
    "import statsmodels.api as sm\n",
    "import statsmodels.formula.api as smf\n",
    "\n",
    "from sklearn.model_selection import train_test_split\n",
    "\n",
    "#Sanity Check\n",
    "from sklearn.linear_model import LinearRegression\n",
    "from sklearn.metrics import mean_squared_error, mean_absolute_error, median_absolute_error, r2_score"
   ]
  },
  {
   "cell_type": "code",
   "execution_count": 2,
   "id": "9bda3f70",
   "metadata": {},
   "outputs": [],
   "source": [
    "#import os\n",
    "#os.chdir('D:\\DataScienceBC\\Datensatz')"
   ]
  },
  {
   "cell_type": "markdown",
   "id": "d0f855b1",
   "metadata": {},
   "source": [
    "Feature Sets\n",
    "- All Features\n",
    "- 30 best correlated Features\n",
    "- 30 least correlated Features"
   ]
  },
  {
   "cell_type": "code",
   "execution_count": 3,
   "id": "30633592",
   "metadata": {},
   "outputs": [],
   "source": [
    "df = pd.read_parquet(\"Datensatz/df_dummy_all.pqt\")"
   ]
  },
  {
   "cell_type": "code",
   "execution_count": 4,
   "id": "8f466912",
   "metadata": {
    "scrolled": true
   },
   "outputs": [
    {
     "data": {
      "text/plain": [
       "array([dtype('float64'), dtype('int64'), dtype('int32'), dtype('uint8')],\n",
       "      dtype=object)"
      ]
     },
     "execution_count": 4,
     "metadata": {},
     "output_type": "execute_result"
    }
   ],
   "source": [
    "df.dtypes.unique()"
   ]
  },
  {
   "cell_type": "markdown",
   "id": "97437c26",
   "metadata": {},
   "source": [
    "#### Train Test Split"
   ]
  },
  {
   "cell_type": "code",
   "execution_count": 5,
   "id": "ae1b3c19",
   "metadata": {},
   "outputs": [],
   "source": [
    "X = df.drop('price', axis=1)\n",
    "y = df.price"
   ]
  },
  {
   "cell_type": "code",
   "execution_count": 6,
   "id": "290b6de9",
   "metadata": {},
   "outputs": [
    {
     "data": {
      "text/plain": [
       "((14061, 101), (4688, 101), (14061,), (4688,))"
      ]
     },
     "execution_count": 6,
     "metadata": {},
     "output_type": "execute_result"
    }
   ],
   "source": [
    "X_train, X_test, y_train, y_test = train_test_split(X, y, test_size=0.25, random_state=43)\n",
    "X_train.shape, X_test.shape, y_train.shape, y_test.shape"
   ]
  },
  {
   "cell_type": "markdown",
   "id": "4e1e9d5a",
   "metadata": {},
   "source": [
    "##### Modeling with 30 worst Features with X "
   ]
  },
  {
   "cell_type": "code",
   "execution_count": 7,
   "id": "5bf5e5b9",
   "metadata": {},
   "outputs": [],
   "source": [
    "lr_w = LinearRegression()"
   ]
  },
  {
   "cell_type": "code",
   "execution_count": 8,
   "id": "992d1058",
   "metadata": {},
   "outputs": [],
   "source": [
    "features_w =['condition_4', 'zipcode_98115', 'grade_4', 'zipcode_98122', 'zipcode_98125', 'zipcode_98019', \n",
    "            'zipcode_98027', 'zipcode_98045', 'zipcode_98028', 'zipcode_98116', 'zipcode_98029', 'long', \n",
    "            'zipcode_98166', 'zipcode_98010', 'zipcode_98059', 'zipcode_98103', 'zipcode_98144', \n",
    "            'zipcode_98007', 'zipcode_98117', 'zipcode_98014', 'zipcode_98011', 'zipcode_98107', \n",
    "            'zipcode_98070', 'zipcode_98072', 'condition_3', \n",
    "            'zipcode_98034', 'zipcode_98065', 'zipcode_98136', 'zipcode_98024', 'grade_8']\n"
   ]
  },
  {
   "cell_type": "code",
   "execution_count": 9,
   "id": "83f76d46",
   "metadata": {},
   "outputs": [
    {
     "data": {
      "text/plain": [
       "LinearRegression()"
      ]
     },
     "execution_count": 9,
     "metadata": {},
     "output_type": "execute_result"
    }
   ],
   "source": [
    "lr_w.fit(X_train[features_w], y_train)"
   ]
  },
  {
   "cell_type": "code",
   "execution_count": 10,
   "id": "3198bb7f",
   "metadata": {},
   "outputs": [
    {
     "data": {
      "text/plain": [
       "{'copy_X': True,\n",
       " 'fit_intercept': True,\n",
       " 'n_jobs': None,\n",
       " 'normalize': False,\n",
       " 'positive': False}"
      ]
     },
     "execution_count": 10,
     "metadata": {},
     "output_type": "execute_result"
    }
   ],
   "source": [
    "# The Hyperparameters for Linear Regression\n",
    "lr_w.fit(X_train[features_w], y_train).get_params()"
   ]
  },
  {
   "cell_type": "code",
   "execution_count": 11,
   "id": "447f0fdf",
   "metadata": {},
   "outputs": [],
   "source": [
    "y_pred_w = lr_w.predict(X_test[features_w])"
   ]
  },
  {
   "cell_type": "code",
   "execution_count": 12,
   "id": "4a9c780e",
   "metadata": {
    "scrolled": true
   },
   "outputs": [
    {
     "data": {
      "text/plain": [
       "0.015387829118094332"
      ]
     },
     "execution_count": 12,
     "metadata": {},
     "output_type": "execute_result"
    }
   ],
   "source": [
    "median_absolute_error(y_test, y_pred_w)\n",
    "mean_squared_error(y_test, y_pred_w, squared = False)\n",
    "r2_score(y_test, y_pred_w)"
   ]
  },
  {
   "cell_type": "code",
   "execution_count": 13,
   "id": "61a67f4e",
   "metadata": {},
   "outputs": [
    {
     "data": {
      "image/png": "[encoded data removed]",
      "text/plain": [
       "<Figure size 720x360 with 1 Axes>"
      ]
     },
     "metadata": {},
     "output_type": "display_data"
    }
   ],
   "source": [
    "# Visualization of y vs y_pred\n",
    "\n",
    "prices = pd.DataFrame({'Actual': y_test, 'Predicted': list(y_pred_w)})\n",
    "\n",
    "plt.figure(figsize=(10,5))\n",
    "\n",
    "sns.kdeplot(prices.Actual, label='Actual')\n",
    "sns.kdeplot(prices.Predicted, label='Predicted')\n",
    "plt.ticklabel_format(style='plain', axis='x')\n",
    "plt.ticklabel_format(style='plain', axis='y')\n",
    "plt.legend();"
   ]
  },
  {
   "cell_type": "markdown",
   "id": "6aa4cbbe",
   "metadata": {},
   "source": [
    "##### Modeling with all Features with X"
   ]
  },
  {
   "cell_type": "code",
   "execution_count": 14,
   "id": "9128c6dc",
   "metadata": {},
   "outputs": [],
   "source": [
    "lr_a = LinearRegression()"
   ]
  },
  {
   "cell_type": "code",
   "execution_count": 15,
   "id": "8868966b",
   "metadata": {},
   "outputs": [
    {
     "data": {
      "text/plain": [
       "LinearRegression()"
      ]
     },
     "execution_count": 15,
     "metadata": {},
     "output_type": "execute_result"
    }
   ],
   "source": [
    "lr_a.fit(X_train, y_train)"
   ]
  },
  {
   "cell_type": "code",
   "execution_count": 16,
   "id": "25b2a6c2",
   "metadata": {},
   "outputs": [],
   "source": [
    "y_pred = lr_a.predict(X_test)"
   ]
  },
  {
   "cell_type": "code",
   "execution_count": 17,
   "id": "f8c5a835",
   "metadata": {},
   "outputs": [
    {
     "data": {
      "text/plain": [
       "0.560516735805985"
      ]
     },
     "execution_count": 17,
     "metadata": {},
     "output_type": "execute_result"
    }
   ],
   "source": [
    "median_absolute_error(y_test, y_pred)\n",
    "mean_squared_error(y_test, y_pred, squared = False)\n",
    "r2_score(y_test, y_pred)"
   ]
  },
  {
   "cell_type": "code",
   "execution_count": 18,
   "id": "9bc892d6",
   "metadata": {},
   "outputs": [
    {
     "data": {
      "image/png": "[encoded data removed]",
      "text/plain": [
       "<Figure size 720x360 with 1 Axes>"
      ]
     },
     "metadata": {},
     "output_type": "display_data"
    }
   ],
   "source": [
    "prices = pd.DataFrame({'Actual': y_test, 'Predicted': list(y_pred)})\n",
    "\n",
    "plt.figure(figsize=(10,5))\n",
    "\n",
    "sns.kdeplot(prices.Actual, label='Actual')\n",
    "sns.kdeplot(prices.Predicted, label='Predicted')\n",
    "plt.ticklabel_format(style='plain', axis='x')\n",
    "plt.ticklabel_format(style='plain', axis='y')\n",
    "plt.legend();"
   ]
  },
  {
   "cell_type": "markdown",
   "id": "62846fae",
   "metadata": {},
   "source": [
    "##### Modeling with 30 best Features with X "
   ]
  },
  {
   "cell_type": "code",
   "execution_count": 19,
   "id": "b30920e3",
   "metadata": {},
   "outputs": [],
   "source": [
    "lr_b = LinearRegression()"
   ]
  },
  {
   "cell_type": "code",
   "execution_count": 20,
   "id": "3381a105",
   "metadata": {},
   "outputs": [],
   "source": [
    "features_b = ['sqft_living', 'sqft_above', 'sqft_living15', 'bathrooms', 'grade_11', 'grade_10',\n",
    "              'sqft_basement', 'grade_7', 'view_4', 'bedrooms', 'lat', 'grade_12', \n",
    "              'zipcode_98004', 'waterfront_1', 'floors', 'grade_9', 'grade_13',\n",
    "              'zipcode_98039', 'grade_6', 'zipcode_98040', 'view_3', 'zipcode_98112', 'view_2',\n",
    "              'zipcode_98006', 'yr_renovated',\n",
    "              'zipcode_98023', 'zipcode_98042', 'zipcode_98033', 'view_1']"
   ]
  },
  {
   "cell_type": "code",
   "execution_count": 21,
   "id": "fdc5be50",
   "metadata": {},
   "outputs": [
    {
     "data": {
      "text/plain": [
       "LinearRegression()"
      ]
     },
     "execution_count": 21,
     "metadata": {},
     "output_type": "execute_result"
    }
   ],
   "source": [
    "lr_b.fit(X_train[features_b], y_train)"
   ]
  },
  {
   "cell_type": "code",
   "execution_count": 22,
   "id": "99a15ba9",
   "metadata": {},
   "outputs": [],
   "source": [
    "y_pred_b = lr_b.predict(X_test[features_b])"
   ]
  },
  {
   "cell_type": "code",
   "execution_count": 23,
   "id": "738eb476",
   "metadata": {},
   "outputs": [
    {
     "name": "stdout",
     "output_type": "stream",
     "text": [
      "173861.3422448566\n"
     ]
    },
    {
     "data": {
      "text/plain": [
       "0.7766918391497564"
      ]
     },
     "execution_count": 23,
     "metadata": {},
     "output_type": "execute_result"
    }
   ],
   "source": [
    "median_absolute_error(y_test, y_pred_b)\n",
    "print(mean_squared_error(y_test, y_pred_b, squared = False))\n",
    "r2_score(y_test, y_pred_b)"
   ]
  },
  {
   "cell_type": "code",
   "execution_count": 24,
   "id": "95a974f8",
   "metadata": {},
   "outputs": [
    {
     "data": {
      "image/png": "[encoded data removed]",
      "text/plain": [
       "<Figure size 720x360 with 1 Axes>"
      ]
     },
     "metadata": {},
     "output_type": "display_data"
    }
   ],
   "source": [
    "prices = pd.DataFrame({'Actual': y_test, 'Predicted': list(y_pred_b)})\n",
    "\n",
    "plt.figure(figsize=(10,5))\n",
    "\n",
    "sns.kdeplot(prices.Actual, label='Actual')\n",
    "sns.kdeplot(prices.Predicted, label='Predicted')\n",
    "plt.ticklabel_format(style='plain', axis='x')\n",
    "plt.ticklabel_format(style='plain', axis='y')\n",
    "plt.legend();"
   ]
  },
  {
   "cell_type": "markdown",
   "id": "3a6e1182",
   "metadata": {},
   "source": [
    "#### Regression Coefficients for best Model"
   ]
  },
  {
   "cell_type": "code",
   "execution_count": 25,
   "id": "807a2655",
   "metadata": {
    "scrolled": true
   },
   "outputs": [
    {
     "data": {
      "text/plain": [
       "(-28450267.508256566,\n",
       " array([ 9.66032053e+01,  4.71547452e+01, -7.72148668e+00,  1.96112756e+04,\n",
       "         4.28758531e+05,  2.40386789e+05,  4.94484603e+01, -3.74468686e+04,\n",
       "         2.87529791e+05, -1.30363687e+04,  6.02929721e+05,  9.20079221e+05,\n",
       "         5.85782741e+05,  5.36513206e+05, -1.49961490e+04,  9.78834709e+04,\n",
       "         2.18815407e+06,  1.01187891e+06, -5.39981319e+04,  3.40881456e+05,\n",
       "         1.87394239e+05,  4.54270528e+05,  1.07135941e+05,  7.44803818e+04,\n",
       "         4.02074357e+01, -4.23521694e+04, -2.54455737e+04,  1.22923064e+05,\n",
       "         1.23963006e+05]))"
      ]
     },
     "execution_count": 25,
     "metadata": {},
     "output_type": "execute_result"
    }
   ],
   "source": [
    "lr_b.intercept_, lr_b.coef_"
   ]
  },
  {
   "cell_type": "code",
   "execution_count": 26,
   "id": "2fbe6ae5",
   "metadata": {},
   "outputs": [],
   "source": [
    "coeff = pd.DataFrame({'Features': features_b, 'Coefficients': list(lr_b.coef_)})"
   ]
  },
  {
   "cell_type": "code",
   "execution_count": 27,
   "id": "db0e863a",
   "metadata": {},
   "outputs": [],
   "source": [
    "pd.set_option('display.float_format', lambda x: '%.3f' % x)"
   ]
  },
  {
   "cell_type": "code",
   "execution_count": 28,
   "id": "0c14d9d2",
   "metadata": {},
   "outputs": [
    {
     "data": {
      "text/html": [
       "<div>\n",
       "<style scoped>\n",
       "    .dataframe tbody tr th:only-of-type {\n",
       "        vertical-align: middle;\n",
       "    }\n",
       "\n",
       "    .dataframe tbody tr th {\n",
       "        vertical-align: top;\n",
       "    }\n",
       "\n",
       "    .dataframe thead th {\n",
       "        text-align: right;\n",
       "    }\n",
       "</style>\n",
       "<table border=\"1\" class=\"dataframe\">\n",
       "  <thead>\n",
       "    <tr style=\"text-align: right;\">\n",
       "      <th></th>\n",
       "      <th>Features</th>\n",
       "      <th>Coefficients</th>\n",
       "    </tr>\n",
       "  </thead>\n",
       "  <tbody>\n",
       "    <tr>\n",
       "      <th>16</th>\n",
       "      <td>grade_13</td>\n",
       "      <td>2188154.066</td>\n",
       "    </tr>\n",
       "    <tr>\n",
       "      <th>17</th>\n",
       "      <td>zipcode_98039</td>\n",
       "      <td>1011878.906</td>\n",
       "    </tr>\n",
       "    <tr>\n",
       "      <th>11</th>\n",
       "      <td>grade_12</td>\n",
       "      <td>920079.221</td>\n",
       "    </tr>\n",
       "    <tr>\n",
       "      <th>10</th>\n",
       "      <td>lat</td>\n",
       "      <td>602929.721</td>\n",
       "    </tr>\n",
       "    <tr>\n",
       "      <th>12</th>\n",
       "      <td>zipcode_98004</td>\n",
       "      <td>585782.741</td>\n",
       "    </tr>\n",
       "    <tr>\n",
       "      <th>13</th>\n",
       "      <td>waterfront_1</td>\n",
       "      <td>536513.206</td>\n",
       "    </tr>\n",
       "    <tr>\n",
       "      <th>21</th>\n",
       "      <td>zipcode_98112</td>\n",
       "      <td>454270.528</td>\n",
       "    </tr>\n",
       "    <tr>\n",
       "      <th>4</th>\n",
       "      <td>grade_11</td>\n",
       "      <td>428758.531</td>\n",
       "    </tr>\n",
       "    <tr>\n",
       "      <th>19</th>\n",
       "      <td>zipcode_98040</td>\n",
       "      <td>340881.456</td>\n",
       "    </tr>\n",
       "    <tr>\n",
       "      <th>8</th>\n",
       "      <td>view_4</td>\n",
       "      <td>287529.791</td>\n",
       "    </tr>\n",
       "    <tr>\n",
       "      <th>5</th>\n",
       "      <td>grade_10</td>\n",
       "      <td>240386.789</td>\n",
       "    </tr>\n",
       "    <tr>\n",
       "      <th>20</th>\n",
       "      <td>view_3</td>\n",
       "      <td>187394.239</td>\n",
       "    </tr>\n",
       "    <tr>\n",
       "      <th>28</th>\n",
       "      <td>view_1</td>\n",
       "      <td>123963.006</td>\n",
       "    </tr>\n",
       "    <tr>\n",
       "      <th>27</th>\n",
       "      <td>zipcode_98033</td>\n",
       "      <td>122923.064</td>\n",
       "    </tr>\n",
       "    <tr>\n",
       "      <th>22</th>\n",
       "      <td>view_2</td>\n",
       "      <td>107135.941</td>\n",
       "    </tr>\n",
       "    <tr>\n",
       "      <th>15</th>\n",
       "      <td>grade_9</td>\n",
       "      <td>97883.471</td>\n",
       "    </tr>\n",
       "    <tr>\n",
       "      <th>23</th>\n",
       "      <td>zipcode_98006</td>\n",
       "      <td>74480.382</td>\n",
       "    </tr>\n",
       "    <tr>\n",
       "      <th>3</th>\n",
       "      <td>bathrooms</td>\n",
       "      <td>19611.276</td>\n",
       "    </tr>\n",
       "    <tr>\n",
       "      <th>0</th>\n",
       "      <td>sqft_living</td>\n",
       "      <td>96.603</td>\n",
       "    </tr>\n",
       "    <tr>\n",
       "      <th>6</th>\n",
       "      <td>sqft_basement</td>\n",
       "      <td>49.448</td>\n",
       "    </tr>\n",
       "    <tr>\n",
       "      <th>1</th>\n",
       "      <td>sqft_above</td>\n",
       "      <td>47.155</td>\n",
       "    </tr>\n",
       "    <tr>\n",
       "      <th>24</th>\n",
       "      <td>yr_renovated</td>\n",
       "      <td>40.207</td>\n",
       "    </tr>\n",
       "    <tr>\n",
       "      <th>2</th>\n",
       "      <td>sqft_living15</td>\n",
       "      <td>-7.721</td>\n",
       "    </tr>\n",
       "    <tr>\n",
       "      <th>9</th>\n",
       "      <td>bedrooms</td>\n",
       "      <td>-13036.369</td>\n",
       "    </tr>\n",
       "    <tr>\n",
       "      <th>14</th>\n",
       "      <td>floors</td>\n",
       "      <td>-14996.149</td>\n",
       "    </tr>\n",
       "    <tr>\n",
       "      <th>26</th>\n",
       "      <td>zipcode_98042</td>\n",
       "      <td>-25445.574</td>\n",
       "    </tr>\n",
       "    <tr>\n",
       "      <th>7</th>\n",
       "      <td>grade_7</td>\n",
       "      <td>-37446.869</td>\n",
       "    </tr>\n",
       "    <tr>\n",
       "      <th>25</th>\n",
       "      <td>zipcode_98023</td>\n",
       "      <td>-42352.169</td>\n",
       "    </tr>\n",
       "    <tr>\n",
       "      <th>18</th>\n",
       "      <td>grade_6</td>\n",
       "      <td>-53998.132</td>\n",
       "    </tr>\n",
       "  </tbody>\n",
       "</table>\n",
       "</div>"
      ],
      "text/plain": [
       "         Features  Coefficients\n",
       "16       grade_13   2188154.066\n",
       "17  zipcode_98039   1011878.906\n",
       "11       grade_12    920079.221\n",
       "10            lat    602929.721\n",
       "12  zipcode_98004    585782.741\n",
       "13   waterfront_1    536513.206\n",
       "21  zipcode_98112    454270.528\n",
       "4        grade_11    428758.531\n",
       "19  zipcode_98040    340881.456\n",
       "8          view_4    287529.791\n",
       "5        grade_10    240386.789\n",
       "20         view_3    187394.239\n",
       "28         view_1    123963.006\n",
       "27  zipcode_98033    122923.064\n",
       "22         view_2    107135.941\n",
       "15        grade_9     97883.471\n",
       "23  zipcode_98006     74480.382\n",
       "3       bathrooms     19611.276\n",
       "0     sqft_living        96.603\n",
       "6   sqft_basement        49.448\n",
       "1      sqft_above        47.155\n",
       "24   yr_renovated        40.207\n",
       "2   sqft_living15        -7.721\n",
       "9        bedrooms    -13036.369\n",
       "14         floors    -14996.149\n",
       "26  zipcode_98042    -25445.574\n",
       "7         grade_7    -37446.869\n",
       "25  zipcode_98023    -42352.169\n",
       "18        grade_6    -53998.132"
      ]
     },
     "execution_count": 28,
     "metadata": {},
     "output_type": "execute_result"
    }
   ],
   "source": [
    "coeff.sort_values('Coefficients', ascending=False)"
   ]
  },
  {
   "cell_type": "markdown",
   "id": "7478b9a1",
   "metadata": {},
   "source": [
    "Saving the best model to disk with pickle<br>\n",
    "Source:\n",
    "https://machinelearningmastery.com/save-load-machine-learning-models-python-scikit-learn/"
   ]
  },
  {
   "cell_type": "code",
   "execution_count": 29,
   "id": "2d23d0ee",
   "metadata": {},
   "outputs": [],
   "source": [
    "import pickle"
   ]
  },
  {
   "cell_type": "code",
   "execution_count": 30,
   "id": "0f754127",
   "metadata": {},
   "outputs": [],
   "source": [
    "#filename = 'LinearRegressionHousing.sav'\n",
    "#pickle.dump(lr_b, open(filename, 'wb'))"
   ]
  },
  {
   "cell_type": "markdown",
   "id": "34b9990a",
   "metadata": {},
   "source": [
    "#### Findings\n",
    "- Sum of Money made is same for all months over total time interval. This can't be right\n",
    "- Good Features are key to a good prediction\n",
    "- Intercept and coefficients are all over the place and not realistic. Maybe scaling the data could help. Or getting rid of Outliers in luxury segment? Best might be getting rid of multicollinearity between predictors like Areas\n",
    "\n",
    "#### Decisions\n",
    "- Excluded Date for Modeling, as array needs same data type and Date does not explain any variance (which it normally should)\n",
    "\n",
    "#### Possible Improvements and new Features\n",
    "- Find missing values of waterfront by geographical Data\n",
    "- Find out if nan for renovation means same as 0 or data is really just missing\n",
    "- Set a flag for houses of a certain age, which were not renovated\n",
    "- Date sold could be an important indicator for the Price, as the houseing market is volatile: Add information about housing market, which certainly will improve prediction of price\n",
    "- Infos found here could be included in model (https://kingcounty.gov/depts/executive/performance-strategy-budget/regional-planning/Demographics.aspx)\n",
    "- Flag if _15 Values are better or worse than house\n",
    "- Find \"Good\" Neighborhoods in Seattle: Distance to best areas or Flag for good/bad area.\n",
    "- The luxury market may distort the prediction, so it could be wise to transform the data (log-transformation)\n",
    "- Include Polynomial Features to see, if there are non linear relationships\n",
    "- Include Level of Uncertainty"
   ]
  },
  {
   "cell_type": "code",
   "execution_count": null,
   "id": "ce317c50",
   "metadata": {},
   "outputs": [],
   "source": []
  }
 ],
 "metadata": {
  "kernelspec": {
   "display_name": "Python 3",
   "language": "python",
   "name": "python3"
  },
  "language_info": {
   "codemirror_mode": {
    "name": "ipython",
    "version": 3
   },
   "file_extension": ".py",
   "mimetype": "text/x-python",
   "name": "python",
   "nbconvert_exporter": "python",
   "pygments_lexer": "ipython3",
   "version": "3.8.5"
  }
 },
 "nbformat": 4,
 "nbformat_minor": 5
}
